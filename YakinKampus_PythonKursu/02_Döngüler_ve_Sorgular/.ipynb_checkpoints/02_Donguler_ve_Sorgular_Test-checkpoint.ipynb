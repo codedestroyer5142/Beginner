{
 "cells": [
  {
   "cell_type": "code",
   "execution_count": 12,
   "metadata": {},
   "outputs": [],
   "source": [
    "kullanici1 = {\n",
    "    'ad': 'Ferhat',\n",
    "    'soyad': 'Ibrik',\n",
    "    'uzmanlik': ['Front-End']\n",
    "}\n",
    "kullanici2 = {\n",
    "    'ad': 'Gokce',\n",
    "    'soyad': 'Gün',\n",
    "    'uzmanlik': ['Tasarim']\n",
    "}\n",
    "kullanici3 = {\n",
    "    'ad': 'Mesut',\n",
    "    'soyad': 'Gün',\n",
    "    'uzmanlik': ['Front-End']\n",
    "}"
   ]
  },
  {
   "cell_type": "code",
   "execution_count": 2,
   "metadata": {},
   "outputs": [
    {
     "name": "stdout",
     "output_type": "stream",
     "text": [
      "['Front-End']\n"
     ]
    }
   ],
   "source": [
    "kullanici1 = {\n",
    "    'ad': 'Ferhat',\n",
    "    'soyad': 'Ibrik',\n",
    "    'uzmanlik': ['Front-End']\n",
    "}\n",
    "kullanici2 = {\n",
    "    'ad': 'Gokce',\n",
    "    'soyad': 'Gün',\n",
    "    'uzmanlik': ['Tasarim']\n",
    "}\n",
    "kullanici3 = {\n",
    "    'ad': 'Mesut',\n",
    "    'soyad': 'Gün',\n",
    "    'uzmanlik': ['Front-End']\n",
    "}\n",
    "\n",
    "# Soru 1: Ferhat Ibrik Kullanicisinin uzmanlik alanlarini döndür\n",
    "print(kullanici1['uzmanlik'])"
   ]
  },
  {
   "cell_type": "code",
   "execution_count": 5,
   "metadata": {},
   "outputs": [
    {
     "name": "stdout",
     "output_type": "stream",
     "text": [
      "Ferhat\n",
      "Mesut\n"
     ]
    }
   ],
   "source": [
    "kullanici_listesi = [kullanici1, kullanici2, kullanici3] \n",
    "\n",
    "# Soru 2: Front-end alanindaki uzmanlarin isimlerini döndür\n",
    "for person in kullanici_listesi:\n",
    "    if person['uzmanlik'] == ['Front-End']:\n",
    "        print(person['ad'])"
   ]
  },
  {
   "cell_type": "code",
   "execution_count": 7,
   "metadata": {},
   "outputs": [
    {
     "name": "stdout",
     "output_type": "stream",
     "text": [
      "{'ad': 'Ferhat', 'soyad': 'Ibrik', 'uzmanlik': ['Front-End']}\n",
      "{'ad': 'Gokce', 'soyad': 'Gün', 'uzmanlik': ['Tasarim']}\n",
      "{'ad': 'Mesut', 'soyad': 'Gün', 'uzmanlik': ['Front-End', 'Yazilim']}\n"
     ]
    }
   ],
   "source": [
    "# Soru 3: Mesut kullanicisi Yazilim ögrendi, bilgileri güncelle!\n",
    "for kisi in kullanici_listesi:\n",
    "    if kisi['ad'] == 'Mesut':\n",
    "        kisi['uzmanlik'].append('Yazilim')\n",
    "    print(kisi)"
   ]
  },
  {
   "cell_type": "code",
   "execution_count": 8,
   "metadata": {},
   "outputs": [
    {
     "name": "stdout",
     "output_type": "stream",
     "text": [
      "{'ad': 'Mesut', 'soyad': 'Gün', 'uzmanlik': ['Front-End', 'Yazilim']}\n"
     ]
    }
   ],
   "source": [
    "# Soru 4: 1den fazla uzmanlik alani olan kullanicilari döndür (Hint: length)\n",
    "for thing in kullanici_listesi:\n",
    "    if len(thing['uzmanlik']) > 1:\n",
    "        print(thing)"
   ]
  },
  {
   "cell_type": "code",
   "execution_count": 9,
   "metadata": {},
   "outputs": [
    {
     "name": "stdout",
     "output_type": "stream",
     "text": [
      "{'ad': 'Ferhat', 'soyad': 'Ibrik', 'uzmanlik': ['Front-End']}\n"
     ]
    }
   ],
   "source": [
    "kullanici_yaslari_listesi = [22, 34, 32]\n",
    "# Soru 5: zip kullanarak iki listeyi birlestir ve yasi 30'dan az olan kullanicilar kimler?\n",
    "for i,y in zip(kullanici_listesi,kullanici_yaslari_listesi):\n",
    "    if y < 30:\n",
    "        print(i)"
   ]
  },
  {
   "cell_type": "code",
   "execution_count": 13,
   "metadata": {},
   "outputs": [
    {
     "name": "stdout",
     "output_type": "stream",
     "text": [
      "3 asal sayıdır\n"
     ]
    }
   ],
   "source": [
    "# Soru 6: deger isimli degiskene atanan sayinin asal olup olmadigini söyle!\n",
    "# Hint Asal sayi: kendinden ve 1'den baska böleni olmayan sayilar örnek 2,3,5,7\n",
    "\n",
    "deger = 3\n",
    "x = deger - 1\n",
    "while x > 1:\n",
    "    if deger%x == 0:\n",
    "        print(f\"{deger} asal sayı değil\")\n",
    "        break\n",
    "    else:\n",
    "        x -= 1\n",
    "else:\n",
    "    print(f\"{deger} asal sayıdır\")"
   ]
  }
 ],
 "metadata": {
  "kernelspec": {
   "display_name": "Python 3",
   "language": "python",
   "name": "python3"
  },
  "language_info": {
   "codemirror_mode": {
    "name": "ipython",
    "version": 3
   },
   "file_extension": ".py",
   "mimetype": "text/x-python",
   "name": "python",
   "nbconvert_exporter": "python",
   "pygments_lexer": "ipython3",
   "version": "3.11.9"
  }
 },
 "nbformat": 4,
 "nbformat_minor": 4
}
